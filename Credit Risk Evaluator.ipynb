{
 "cells": [
  {
   "cell_type": "code",
   "execution_count": 1,
   "metadata": {},
   "outputs": [],
   "source": [
    "import numpy as np\n",
    "import pandas as pd\n",
    "from pathlib import Path\n",
    "from sklearn.linear_model import LinearRegression, Ridge, Lasso, ElasticNet\n",
    "from sklearn.linear_model import LogisticRegression\n",
    "from sklearn.model_selection import train_test_split\n",
    "from sklearn.preprocessing import StandardScaler\n",
    "%matplotlib inline\n",
    "from matplotlib import pyplot as plt\n",
    "from sklearn.datasets import make_regression\n",
    "from sklearn.ensemble import RandomForestClassifier"
   ]
  },
  {
   "cell_type": "code",
   "execution_count": 2,
   "metadata": {},
   "outputs": [],
   "source": [
    "train_df = pd.read_csv(Path('Resources/Generator/2019loans.csv'))\n",
    "test_df = pd.read_csv(Path('Resources/Generator/2020Q1loans.csv'))"
   ]
  },
  {
   "cell_type": "code",
   "execution_count": 3,
   "metadata": {
    "scrolled": true
   },
   "outputs": [
    {
     "data": {
      "text/html": [
       "<div>\n",
       "<style scoped>\n",
       "    .dataframe tbody tr th:only-of-type {\n",
       "        vertical-align: middle;\n",
       "    }\n",
       "\n",
       "    .dataframe tbody tr th {\n",
       "        vertical-align: top;\n",
       "    }\n",
       "\n",
       "    .dataframe thead th {\n",
       "        text-align: right;\n",
       "    }\n",
       "</style>\n",
       "<table border=\"1\" class=\"dataframe\">\n",
       "  <thead>\n",
       "    <tr style=\"text-align: right;\">\n",
       "      <th></th>\n",
       "      <th>loan_amnt</th>\n",
       "      <th>int_rate</th>\n",
       "      <th>installment</th>\n",
       "      <th>annual_inc</th>\n",
       "      <th>dti</th>\n",
       "      <th>delinq_2yrs</th>\n",
       "      <th>inq_last_6mths</th>\n",
       "      <th>open_acc</th>\n",
       "      <th>pub_rec</th>\n",
       "      <th>revol_bal</th>\n",
       "      <th>...</th>\n",
       "      <th>home_ownership_MORTGAGE</th>\n",
       "      <th>home_ownership_OWN</th>\n",
       "      <th>home_ownership_RENT</th>\n",
       "      <th>initial_list_status_w</th>\n",
       "      <th>application_type_Joint App</th>\n",
       "      <th>hardship_flag_Y</th>\n",
       "      <th>debt_settlement_flag_Y</th>\n",
       "      <th>verification_status_Source Verified</th>\n",
       "      <th>verification_status_Verified</th>\n",
       "      <th>target_low_risk</th>\n",
       "    </tr>\n",
       "  </thead>\n",
       "  <tbody>\n",
       "    <tr>\n",
       "      <th>0</th>\n",
       "      <td>7000.0</td>\n",
       "      <td>0.1894</td>\n",
       "      <td>256.38</td>\n",
       "      <td>75000.0</td>\n",
       "      <td>28.62</td>\n",
       "      <td>0.0</td>\n",
       "      <td>2.0</td>\n",
       "      <td>20.0</td>\n",
       "      <td>0.0</td>\n",
       "      <td>40414.0</td>\n",
       "      <td>...</td>\n",
       "      <td>1</td>\n",
       "      <td>0</td>\n",
       "      <td>0</td>\n",
       "      <td>0</td>\n",
       "      <td>0</td>\n",
       "      <td>0</td>\n",
       "      <td>0</td>\n",
       "      <td>0</td>\n",
       "      <td>0</td>\n",
       "      <td>1</td>\n",
       "    </tr>\n",
       "    <tr>\n",
       "      <th>1</th>\n",
       "      <td>40000.0</td>\n",
       "      <td>0.1614</td>\n",
       "      <td>975.71</td>\n",
       "      <td>102000.0</td>\n",
       "      <td>11.72</td>\n",
       "      <td>2.0</td>\n",
       "      <td>0.0</td>\n",
       "      <td>10.0</td>\n",
       "      <td>0.0</td>\n",
       "      <td>43531.0</td>\n",
       "      <td>...</td>\n",
       "      <td>1</td>\n",
       "      <td>0</td>\n",
       "      <td>0</td>\n",
       "      <td>1</td>\n",
       "      <td>0</td>\n",
       "      <td>0</td>\n",
       "      <td>0</td>\n",
       "      <td>1</td>\n",
       "      <td>0</td>\n",
       "      <td>1</td>\n",
       "    </tr>\n",
       "    <tr>\n",
       "      <th>2</th>\n",
       "      <td>11000.0</td>\n",
       "      <td>0.2055</td>\n",
       "      <td>294.81</td>\n",
       "      <td>45000.0</td>\n",
       "      <td>37.25</td>\n",
       "      <td>1.0</td>\n",
       "      <td>3.0</td>\n",
       "      <td>23.0</td>\n",
       "      <td>0.0</td>\n",
       "      <td>8242.0</td>\n",
       "      <td>...</td>\n",
       "      <td>0</td>\n",
       "      <td>0</td>\n",
       "      <td>1</td>\n",
       "      <td>1</td>\n",
       "      <td>0</td>\n",
       "      <td>0</td>\n",
       "      <td>0</td>\n",
       "      <td>0</td>\n",
       "      <td>1</td>\n",
       "      <td>1</td>\n",
       "    </tr>\n",
       "    <tr>\n",
       "      <th>3</th>\n",
       "      <td>4000.0</td>\n",
       "      <td>0.1612</td>\n",
       "      <td>140.87</td>\n",
       "      <td>38000.0</td>\n",
       "      <td>42.89</td>\n",
       "      <td>1.0</td>\n",
       "      <td>0.0</td>\n",
       "      <td>7.0</td>\n",
       "      <td>0.0</td>\n",
       "      <td>12767.0</td>\n",
       "      <td>...</td>\n",
       "      <td>1</td>\n",
       "      <td>0</td>\n",
       "      <td>0</td>\n",
       "      <td>1</td>\n",
       "      <td>1</td>\n",
       "      <td>0</td>\n",
       "      <td>0</td>\n",
       "      <td>0</td>\n",
       "      <td>0</td>\n",
       "      <td>1</td>\n",
       "    </tr>\n",
       "    <tr>\n",
       "      <th>4</th>\n",
       "      <td>14000.0</td>\n",
       "      <td>0.1797</td>\n",
       "      <td>505.93</td>\n",
       "      <td>43000.0</td>\n",
       "      <td>22.16</td>\n",
       "      <td>1.0</td>\n",
       "      <td>0.0</td>\n",
       "      <td>22.0</td>\n",
       "      <td>0.0</td>\n",
       "      <td>11182.0</td>\n",
       "      <td>...</td>\n",
       "      <td>1</td>\n",
       "      <td>0</td>\n",
       "      <td>0</td>\n",
       "      <td>1</td>\n",
       "      <td>0</td>\n",
       "      <td>0</td>\n",
       "      <td>0</td>\n",
       "      <td>1</td>\n",
       "      <td>0</td>\n",
       "      <td>1</td>\n",
       "    </tr>\n",
       "    <tr>\n",
       "      <th>...</th>\n",
       "      <td>...</td>\n",
       "      <td>...</td>\n",
       "      <td>...</td>\n",
       "      <td>...</td>\n",
       "      <td>...</td>\n",
       "      <td>...</td>\n",
       "      <td>...</td>\n",
       "      <td>...</td>\n",
       "      <td>...</td>\n",
       "      <td>...</td>\n",
       "      <td>...</td>\n",
       "      <td>...</td>\n",
       "      <td>...</td>\n",
       "      <td>...</td>\n",
       "      <td>...</td>\n",
       "      <td>...</td>\n",
       "      <td>...</td>\n",
       "      <td>...</td>\n",
       "      <td>...</td>\n",
       "      <td>...</td>\n",
       "      <td>...</td>\n",
       "    </tr>\n",
       "    <tr>\n",
       "      <th>12175</th>\n",
       "      <td>19975.0</td>\n",
       "      <td>0.2565</td>\n",
       "      <td>801.09</td>\n",
       "      <td>28000.0</td>\n",
       "      <td>28.42</td>\n",
       "      <td>0.0</td>\n",
       "      <td>0.0</td>\n",
       "      <td>15.0</td>\n",
       "      <td>0.0</td>\n",
       "      <td>9679.0</td>\n",
       "      <td>...</td>\n",
       "      <td>0</td>\n",
       "      <td>0</td>\n",
       "      <td>1</td>\n",
       "      <td>1</td>\n",
       "      <td>0</td>\n",
       "      <td>0</td>\n",
       "      <td>0</td>\n",
       "      <td>0</td>\n",
       "      <td>0</td>\n",
       "      <td>0</td>\n",
       "    </tr>\n",
       "    <tr>\n",
       "      <th>12176</th>\n",
       "      <td>15000.0</td>\n",
       "      <td>0.1774</td>\n",
       "      <td>540.34</td>\n",
       "      <td>50000.0</td>\n",
       "      <td>23.43</td>\n",
       "      <td>4.0</td>\n",
       "      <td>0.0</td>\n",
       "      <td>16.0</td>\n",
       "      <td>0.0</td>\n",
       "      <td>3193.0</td>\n",
       "      <td>...</td>\n",
       "      <td>0</td>\n",
       "      <td>0</td>\n",
       "      <td>1</td>\n",
       "      <td>1</td>\n",
       "      <td>0</td>\n",
       "      <td>0</td>\n",
       "      <td>0</td>\n",
       "      <td>0</td>\n",
       "      <td>1</td>\n",
       "      <td>0</td>\n",
       "    </tr>\n",
       "    <tr>\n",
       "      <th>12177</th>\n",
       "      <td>3600.0</td>\n",
       "      <td>0.1862</td>\n",
       "      <td>131.28</td>\n",
       "      <td>60000.0</td>\n",
       "      <td>28.80</td>\n",
       "      <td>0.0</td>\n",
       "      <td>1.0</td>\n",
       "      <td>14.0</td>\n",
       "      <td>0.0</td>\n",
       "      <td>11804.0</td>\n",
       "      <td>...</td>\n",
       "      <td>0</td>\n",
       "      <td>0</td>\n",
       "      <td>1</td>\n",
       "      <td>1</td>\n",
       "      <td>0</td>\n",
       "      <td>0</td>\n",
       "      <td>0</td>\n",
       "      <td>0</td>\n",
       "      <td>0</td>\n",
       "      <td>0</td>\n",
       "    </tr>\n",
       "    <tr>\n",
       "      <th>12178</th>\n",
       "      <td>15000.0</td>\n",
       "      <td>0.0881</td>\n",
       "      <td>475.68</td>\n",
       "      <td>62000.0</td>\n",
       "      <td>11.44</td>\n",
       "      <td>0.0</td>\n",
       "      <td>0.0</td>\n",
       "      <td>5.0</td>\n",
       "      <td>0.0</td>\n",
       "      <td>157.0</td>\n",
       "      <td>...</td>\n",
       "      <td>1</td>\n",
       "      <td>0</td>\n",
       "      <td>0</td>\n",
       "      <td>1</td>\n",
       "      <td>1</td>\n",
       "      <td>0</td>\n",
       "      <td>0</td>\n",
       "      <td>1</td>\n",
       "      <td>0</td>\n",
       "      <td>0</td>\n",
       "    </tr>\n",
       "    <tr>\n",
       "      <th>12179</th>\n",
       "      <td>15000.0</td>\n",
       "      <td>0.1774</td>\n",
       "      <td>540.34</td>\n",
       "      <td>54080.0</td>\n",
       "      <td>21.66</td>\n",
       "      <td>1.0</td>\n",
       "      <td>1.0</td>\n",
       "      <td>5.0</td>\n",
       "      <td>0.0</td>\n",
       "      <td>8349.0</td>\n",
       "      <td>...</td>\n",
       "      <td>0</td>\n",
       "      <td>0</td>\n",
       "      <td>1</td>\n",
       "      <td>0</td>\n",
       "      <td>0</td>\n",
       "      <td>0</td>\n",
       "      <td>0</td>\n",
       "      <td>0</td>\n",
       "      <td>0</td>\n",
       "      <td>0</td>\n",
       "    </tr>\n",
       "  </tbody>\n",
       "</table>\n",
       "<p>12180 rows × 86 columns</p>\n",
       "</div>"
      ],
      "text/plain": [
       "       loan_amnt  int_rate  installment  annual_inc    dti  delinq_2yrs  \\\n",
       "0         7000.0    0.1894       256.38     75000.0  28.62          0.0   \n",
       "1        40000.0    0.1614       975.71    102000.0  11.72          2.0   \n",
       "2        11000.0    0.2055       294.81     45000.0  37.25          1.0   \n",
       "3         4000.0    0.1612       140.87     38000.0  42.89          1.0   \n",
       "4        14000.0    0.1797       505.93     43000.0  22.16          1.0   \n",
       "...          ...       ...          ...         ...    ...          ...   \n",
       "12175    19975.0    0.2565       801.09     28000.0  28.42          0.0   \n",
       "12176    15000.0    0.1774       540.34     50000.0  23.43          4.0   \n",
       "12177     3600.0    0.1862       131.28     60000.0  28.80          0.0   \n",
       "12178    15000.0    0.0881       475.68     62000.0  11.44          0.0   \n",
       "12179    15000.0    0.1774       540.34     54080.0  21.66          1.0   \n",
       "\n",
       "       inq_last_6mths  open_acc  pub_rec  revol_bal  ...  \\\n",
       "0                 2.0      20.0      0.0    40414.0  ...   \n",
       "1                 0.0      10.0      0.0    43531.0  ...   \n",
       "2                 3.0      23.0      0.0     8242.0  ...   \n",
       "3                 0.0       7.0      0.0    12767.0  ...   \n",
       "4                 0.0      22.0      0.0    11182.0  ...   \n",
       "...               ...       ...      ...        ...  ...   \n",
       "12175             0.0      15.0      0.0     9679.0  ...   \n",
       "12176             0.0      16.0      0.0     3193.0  ...   \n",
       "12177             1.0      14.0      0.0    11804.0  ...   \n",
       "12178             0.0       5.0      0.0      157.0  ...   \n",
       "12179             1.0       5.0      0.0     8349.0  ...   \n",
       "\n",
       "       home_ownership_MORTGAGE  home_ownership_OWN  home_ownership_RENT  \\\n",
       "0                            1                   0                    0   \n",
       "1                            1                   0                    0   \n",
       "2                            0                   0                    1   \n",
       "3                            1                   0                    0   \n",
       "4                            1                   0                    0   \n",
       "...                        ...                 ...                  ...   \n",
       "12175                        0                   0                    1   \n",
       "12176                        0                   0                    1   \n",
       "12177                        0                   0                    1   \n",
       "12178                        1                   0                    0   \n",
       "12179                        0                   0                    1   \n",
       "\n",
       "       initial_list_status_w  application_type_Joint App  hardship_flag_Y  \\\n",
       "0                          0                           0                0   \n",
       "1                          1                           0                0   \n",
       "2                          1                           0                0   \n",
       "3                          1                           1                0   \n",
       "4                          1                           0                0   \n",
       "...                      ...                         ...              ...   \n",
       "12175                      1                           0                0   \n",
       "12176                      1                           0                0   \n",
       "12177                      1                           0                0   \n",
       "12178                      1                           1                0   \n",
       "12179                      0                           0                0   \n",
       "\n",
       "       debt_settlement_flag_Y  verification_status_Source Verified  \\\n",
       "0                           0                                    0   \n",
       "1                           0                                    1   \n",
       "2                           0                                    0   \n",
       "3                           0                                    0   \n",
       "4                           0                                    1   \n",
       "...                       ...                                  ...   \n",
       "12175                       0                                    0   \n",
       "12176                       0                                    0   \n",
       "12177                       0                                    0   \n",
       "12178                       0                                    1   \n",
       "12179                       0                                    0   \n",
       "\n",
       "       verification_status_Verified  target_low_risk  \n",
       "0                                 0                1  \n",
       "1                                 0                1  \n",
       "2                                 1                1  \n",
       "3                                 0                1  \n",
       "4                                 0                1  \n",
       "...                             ...              ...  \n",
       "12175                             0                0  \n",
       "12176                             1                0  \n",
       "12177                             0                0  \n",
       "12178                             0                0  \n",
       "12179                             0                0  \n",
       "\n",
       "[12180 rows x 86 columns]"
      ]
     },
     "execution_count": 3,
     "metadata": {},
     "output_type": "execute_result"
    }
   ],
   "source": [
    "# Convert categorical data to numeric and separate target feature for training data\n",
    "train_df = pd.get_dummies(train_df, columns=['home_ownership','initial_list_status', 'application_type', 'hardship_flag', \\\n",
    "                                 'debt_settlement_flag', 'verification_status', 'pymnt_plan', 'target'], drop_first=True)\n",
    "train_df"
   ]
  },
  {
   "cell_type": "code",
   "execution_count": 4,
   "metadata": {},
   "outputs": [
    {
     "data": {
      "text/html": [
       "<div>\n",
       "<style scoped>\n",
       "    .dataframe tbody tr th:only-of-type {\n",
       "        vertical-align: middle;\n",
       "    }\n",
       "\n",
       "    .dataframe tbody tr th {\n",
       "        vertical-align: top;\n",
       "    }\n",
       "\n",
       "    .dataframe thead th {\n",
       "        text-align: right;\n",
       "    }\n",
       "</style>\n",
       "<table border=\"1\" class=\"dataframe\">\n",
       "  <thead>\n",
       "    <tr style=\"text-align: right;\">\n",
       "      <th></th>\n",
       "      <th>loan_amnt</th>\n",
       "      <th>int_rate</th>\n",
       "      <th>installment</th>\n",
       "      <th>annual_inc</th>\n",
       "      <th>dti</th>\n",
       "      <th>delinq_2yrs</th>\n",
       "      <th>inq_last_6mths</th>\n",
       "      <th>open_acc</th>\n",
       "      <th>pub_rec</th>\n",
       "      <th>revol_bal</th>\n",
       "      <th>...</th>\n",
       "      <th>total_il_high_credit_limit</th>\n",
       "      <th>home_ownership_MORTGAGE</th>\n",
       "      <th>home_ownership_OWN</th>\n",
       "      <th>home_ownership_RENT</th>\n",
       "      <th>initial_list_status_w</th>\n",
       "      <th>application_type_Joint App</th>\n",
       "      <th>hardship_flag_Y</th>\n",
       "      <th>verification_status_Source Verified</th>\n",
       "      <th>verification_status_Verified</th>\n",
       "      <th>target_low_risk</th>\n",
       "    </tr>\n",
       "  </thead>\n",
       "  <tbody>\n",
       "    <tr>\n",
       "      <th>0</th>\n",
       "      <td>40000.0</td>\n",
       "      <td>0.1033</td>\n",
       "      <td>856.40</td>\n",
       "      <td>128700.0</td>\n",
       "      <td>12.47</td>\n",
       "      <td>0.0</td>\n",
       "      <td>1.0</td>\n",
       "      <td>8.0</td>\n",
       "      <td>0.0</td>\n",
       "      <td>38113.0</td>\n",
       "      <td>...</td>\n",
       "      <td>14515.0</td>\n",
       "      <td>0</td>\n",
       "      <td>0</td>\n",
       "      <td>1</td>\n",
       "      <td>1</td>\n",
       "      <td>0</td>\n",
       "      <td>1</td>\n",
       "      <td>1</td>\n",
       "      <td>0</td>\n",
       "      <td>1</td>\n",
       "    </tr>\n",
       "    <tr>\n",
       "      <th>1</th>\n",
       "      <td>24450.0</td>\n",
       "      <td>0.1430</td>\n",
       "      <td>572.72</td>\n",
       "      <td>44574.0</td>\n",
       "      <td>15.05</td>\n",
       "      <td>0.0</td>\n",
       "      <td>1.0</td>\n",
       "      <td>6.0</td>\n",
       "      <td>0.0</td>\n",
       "      <td>1665.0</td>\n",
       "      <td>...</td>\n",
       "      <td>18925.0</td>\n",
       "      <td>1</td>\n",
       "      <td>0</td>\n",
       "      <td>0</td>\n",
       "      <td>1</td>\n",
       "      <td>0</td>\n",
       "      <td>0</td>\n",
       "      <td>0</td>\n",
       "      <td>0</td>\n",
       "      <td>1</td>\n",
       "    </tr>\n",
       "    <tr>\n",
       "      <th>2</th>\n",
       "      <td>13500.0</td>\n",
       "      <td>0.1430</td>\n",
       "      <td>316.23</td>\n",
       "      <td>60000.0</td>\n",
       "      <td>28.72</td>\n",
       "      <td>0.0</td>\n",
       "      <td>0.0</td>\n",
       "      <td>8.0</td>\n",
       "      <td>0.0</td>\n",
       "      <td>13857.0</td>\n",
       "      <td>...</td>\n",
       "      <td>61724.0</td>\n",
       "      <td>0</td>\n",
       "      <td>1</td>\n",
       "      <td>0</td>\n",
       "      <td>1</td>\n",
       "      <td>0</td>\n",
       "      <td>1</td>\n",
       "      <td>0</td>\n",
       "      <td>0</td>\n",
       "      <td>1</td>\n",
       "    </tr>\n",
       "    <tr>\n",
       "      <th>3</th>\n",
       "      <td>10625.0</td>\n",
       "      <td>0.1774</td>\n",
       "      <td>268.31</td>\n",
       "      <td>60000.0</td>\n",
       "      <td>15.70</td>\n",
       "      <td>0.0</td>\n",
       "      <td>4.0</td>\n",
       "      <td>17.0</td>\n",
       "      <td>0.0</td>\n",
       "      <td>6216.0</td>\n",
       "      <td>...</td>\n",
       "      <td>26255.0</td>\n",
       "      <td>0</td>\n",
       "      <td>0</td>\n",
       "      <td>1</td>\n",
       "      <td>1</td>\n",
       "      <td>0</td>\n",
       "      <td>0</td>\n",
       "      <td>0</td>\n",
       "      <td>1</td>\n",
       "      <td>1</td>\n",
       "    </tr>\n",
       "    <tr>\n",
       "      <th>4</th>\n",
       "      <td>6375.0</td>\n",
       "      <td>0.1862</td>\n",
       "      <td>232.46</td>\n",
       "      <td>60000.0</td>\n",
       "      <td>35.50</td>\n",
       "      <td>0.0</td>\n",
       "      <td>0.0</td>\n",
       "      <td>13.0</td>\n",
       "      <td>0.0</td>\n",
       "      <td>12681.0</td>\n",
       "      <td>...</td>\n",
       "      <td>72345.0</td>\n",
       "      <td>0</td>\n",
       "      <td>0</td>\n",
       "      <td>1</td>\n",
       "      <td>1</td>\n",
       "      <td>0</td>\n",
       "      <td>0</td>\n",
       "      <td>1</td>\n",
       "      <td>0</td>\n",
       "      <td>1</td>\n",
       "    </tr>\n",
       "    <tr>\n",
       "      <th>...</th>\n",
       "      <td>...</td>\n",
       "      <td>...</td>\n",
       "      <td>...</td>\n",
       "      <td>...</td>\n",
       "      <td>...</td>\n",
       "      <td>...</td>\n",
       "      <td>...</td>\n",
       "      <td>...</td>\n",
       "      <td>...</td>\n",
       "      <td>...</td>\n",
       "      <td>...</td>\n",
       "      <td>...</td>\n",
       "      <td>...</td>\n",
       "      <td>...</td>\n",
       "      <td>...</td>\n",
       "      <td>...</td>\n",
       "      <td>...</td>\n",
       "      <td>...</td>\n",
       "      <td>...</td>\n",
       "      <td>...</td>\n",
       "      <td>...</td>\n",
       "    </tr>\n",
       "    <tr>\n",
       "      <th>4697</th>\n",
       "      <td>30000.0</td>\n",
       "      <td>0.1240</td>\n",
       "      <td>673.42</td>\n",
       "      <td>140480.0</td>\n",
       "      <td>15.74</td>\n",
       "      <td>0.0</td>\n",
       "      <td>0.0</td>\n",
       "      <td>20.0</td>\n",
       "      <td>0.0</td>\n",
       "      <td>23215.0</td>\n",
       "      <td>...</td>\n",
       "      <td>107388.0</td>\n",
       "      <td>0</td>\n",
       "      <td>0</td>\n",
       "      <td>1</td>\n",
       "      <td>0</td>\n",
       "      <td>0</td>\n",
       "      <td>0</td>\n",
       "      <td>1</td>\n",
       "      <td>0</td>\n",
       "      <td>0</td>\n",
       "    </tr>\n",
       "    <tr>\n",
       "      <th>4698</th>\n",
       "      <td>24000.0</td>\n",
       "      <td>0.0756</td>\n",
       "      <td>747.22</td>\n",
       "      <td>50000.0</td>\n",
       "      <td>26.81</td>\n",
       "      <td>0.0</td>\n",
       "      <td>0.0</td>\n",
       "      <td>9.0</td>\n",
       "      <td>0.0</td>\n",
       "      <td>459.0</td>\n",
       "      <td>...</td>\n",
       "      <td>30775.0</td>\n",
       "      <td>0</td>\n",
       "      <td>0</td>\n",
       "      <td>1</td>\n",
       "      <td>1</td>\n",
       "      <td>0</td>\n",
       "      <td>0</td>\n",
       "      <td>0</td>\n",
       "      <td>0</td>\n",
       "      <td>0</td>\n",
       "    </tr>\n",
       "    <tr>\n",
       "      <th>4699</th>\n",
       "      <td>10000.0</td>\n",
       "      <td>0.2305</td>\n",
       "      <td>387.36</td>\n",
       "      <td>33000.0</td>\n",
       "      <td>38.51</td>\n",
       "      <td>0.0</td>\n",
       "      <td>2.0</td>\n",
       "      <td>7.0</td>\n",
       "      <td>0.0</td>\n",
       "      <td>6342.0</td>\n",
       "      <td>...</td>\n",
       "      <td>29550.0</td>\n",
       "      <td>0</td>\n",
       "      <td>0</td>\n",
       "      <td>1</td>\n",
       "      <td>0</td>\n",
       "      <td>0</td>\n",
       "      <td>0</td>\n",
       "      <td>0</td>\n",
       "      <td>1</td>\n",
       "      <td>0</td>\n",
       "    </tr>\n",
       "    <tr>\n",
       "      <th>4700</th>\n",
       "      <td>8000.0</td>\n",
       "      <td>0.1862</td>\n",
       "      <td>205.86</td>\n",
       "      <td>38000.0</td>\n",
       "      <td>16.36</td>\n",
       "      <td>0.0</td>\n",
       "      <td>1.0</td>\n",
       "      <td>8.0</td>\n",
       "      <td>1.0</td>\n",
       "      <td>11636.0</td>\n",
       "      <td>...</td>\n",
       "      <td>9657.0</td>\n",
       "      <td>0</td>\n",
       "      <td>0</td>\n",
       "      <td>1</td>\n",
       "      <td>1</td>\n",
       "      <td>0</td>\n",
       "      <td>0</td>\n",
       "      <td>1</td>\n",
       "      <td>0</td>\n",
       "      <td>0</td>\n",
       "    </tr>\n",
       "    <tr>\n",
       "      <th>4701</th>\n",
       "      <td>30000.0</td>\n",
       "      <td>0.2055</td>\n",
       "      <td>1123.34</td>\n",
       "      <td>180000.0</td>\n",
       "      <td>12.06</td>\n",
       "      <td>0.0</td>\n",
       "      <td>0.0</td>\n",
       "      <td>8.0</td>\n",
       "      <td>0.0</td>\n",
       "      <td>4771.0</td>\n",
       "      <td>...</td>\n",
       "      <td>209986.0</td>\n",
       "      <td>0</td>\n",
       "      <td>0</td>\n",
       "      <td>1</td>\n",
       "      <td>0</td>\n",
       "      <td>0</td>\n",
       "      <td>0</td>\n",
       "      <td>1</td>\n",
       "      <td>0</td>\n",
       "      <td>0</td>\n",
       "    </tr>\n",
       "  </tbody>\n",
       "</table>\n",
       "<p>4702 rows × 85 columns</p>\n",
       "</div>"
      ],
      "text/plain": [
       "      loan_amnt  int_rate  installment  annual_inc    dti  delinq_2yrs  \\\n",
       "0       40000.0    0.1033       856.40    128700.0  12.47          0.0   \n",
       "1       24450.0    0.1430       572.72     44574.0  15.05          0.0   \n",
       "2       13500.0    0.1430       316.23     60000.0  28.72          0.0   \n",
       "3       10625.0    0.1774       268.31     60000.0  15.70          0.0   \n",
       "4        6375.0    0.1862       232.46     60000.0  35.50          0.0   \n",
       "...         ...       ...          ...         ...    ...          ...   \n",
       "4697    30000.0    0.1240       673.42    140480.0  15.74          0.0   \n",
       "4698    24000.0    0.0756       747.22     50000.0  26.81          0.0   \n",
       "4699    10000.0    0.2305       387.36     33000.0  38.51          0.0   \n",
       "4700     8000.0    0.1862       205.86     38000.0  16.36          0.0   \n",
       "4701    30000.0    0.2055      1123.34    180000.0  12.06          0.0   \n",
       "\n",
       "      inq_last_6mths  open_acc  pub_rec  revol_bal  ...  \\\n",
       "0                1.0       8.0      0.0    38113.0  ...   \n",
       "1                1.0       6.0      0.0     1665.0  ...   \n",
       "2                0.0       8.0      0.0    13857.0  ...   \n",
       "3                4.0      17.0      0.0     6216.0  ...   \n",
       "4                0.0      13.0      0.0    12681.0  ...   \n",
       "...              ...       ...      ...        ...  ...   \n",
       "4697             0.0      20.0      0.0    23215.0  ...   \n",
       "4698             0.0       9.0      0.0      459.0  ...   \n",
       "4699             2.0       7.0      0.0     6342.0  ...   \n",
       "4700             1.0       8.0      1.0    11636.0  ...   \n",
       "4701             0.0       8.0      0.0     4771.0  ...   \n",
       "\n",
       "      total_il_high_credit_limit  home_ownership_MORTGAGE  home_ownership_OWN  \\\n",
       "0                        14515.0                        0                   0   \n",
       "1                        18925.0                        1                   0   \n",
       "2                        61724.0                        0                   1   \n",
       "3                        26255.0                        0                   0   \n",
       "4                        72345.0                        0                   0   \n",
       "...                          ...                      ...                 ...   \n",
       "4697                    107388.0                        0                   0   \n",
       "4698                     30775.0                        0                   0   \n",
       "4699                     29550.0                        0                   0   \n",
       "4700                      9657.0                        0                   0   \n",
       "4701                    209986.0                        0                   0   \n",
       "\n",
       "      home_ownership_RENT  initial_list_status_w  application_type_Joint App  \\\n",
       "0                       1                      1                           0   \n",
       "1                       0                      1                           0   \n",
       "2                       0                      1                           0   \n",
       "3                       1                      1                           0   \n",
       "4                       1                      1                           0   \n",
       "...                   ...                    ...                         ...   \n",
       "4697                    1                      0                           0   \n",
       "4698                    1                      1                           0   \n",
       "4699                    1                      0                           0   \n",
       "4700                    1                      1                           0   \n",
       "4701                    1                      0                           0   \n",
       "\n",
       "      hardship_flag_Y  verification_status_Source Verified  \\\n",
       "0                   1                                    1   \n",
       "1                   0                                    0   \n",
       "2                   1                                    0   \n",
       "3                   0                                    0   \n",
       "4                   0                                    1   \n",
       "...               ...                                  ...   \n",
       "4697                0                                    1   \n",
       "4698                0                                    0   \n",
       "4699                0                                    0   \n",
       "4700                0                                    1   \n",
       "4701                0                                    1   \n",
       "\n",
       "      verification_status_Verified  target_low_risk  \n",
       "0                                0                1  \n",
       "1                                0                1  \n",
       "2                                0                1  \n",
       "3                                1                1  \n",
       "4                                0                1  \n",
       "...                            ...              ...  \n",
       "4697                             0                0  \n",
       "4698                             0                0  \n",
       "4699                             1                0  \n",
       "4700                             0                0  \n",
       "4701                             0                0  \n",
       "\n",
       "[4702 rows x 85 columns]"
      ]
     },
     "execution_count": 4,
     "metadata": {},
     "output_type": "execute_result"
    }
   ],
   "source": [
    "# Convert categorical data to numeric and separate target feature for testing data\n",
    "test_df = pd.get_dummies(test_df, columns=['home_ownership','initial_list_status', 'application_type', 'hardship_flag', \\\n",
    "                                 'debt_settlement_flag', 'verification_status', 'pymnt_plan', 'target'], drop_first=True)\n",
    "test_df"
   ]
  },
  {
   "cell_type": "code",
   "execution_count": 5,
   "metadata": {},
   "outputs": [],
   "source": [
    "# add missing dummy variables to testing set\n",
    "# list(test_df)\n",
    "test_df['debt_settlement_flag'] = 0\n"
   ]
  },
  {
   "cell_type": "code",
   "execution_count": 6,
   "metadata": {},
   "outputs": [
    {
     "name": "stdout",
     "output_type": "stream",
     "text": [
      "12180\n",
      "12180\n",
      "4702\n",
      "4702\n"
     ]
    }
   ],
   "source": [
    "#define training data and testing data set\n",
    "X_train = train_df.drop(['target_low_risk'], axis=1)\n",
    "y_train = train_df['target_low_risk']\n",
    "X_test = test_df.drop(['target_low_risk'], axis=1)\n",
    "y_test = test_df['target_low_risk']\n",
    "\n",
    "print(len(X_train))\n",
    "print(len(y_train))\n",
    "print(len(X_test))\n",
    "print(len(y_test))"
   ]
  },
  {
   "cell_type": "code",
   "execution_count": 7,
   "metadata": {},
   "outputs": [],
   "source": [
    "# Scale x_train and x_test \n",
    "scaler = StandardScaler().fit(X_train)\n",
    "X_train_scaled = scaler.transform(X_train)\n",
    "X_test_scaled = scaler.transform(X_test)"
   ]
  },
  {
   "cell_type": "markdown",
   "metadata": {},
   "source": [
    "## Educated Guess on Better Model (LogisticRegression vs. RandomTreeClassifier)\n",
    "Looking at the variability of the coeffeicient, Logistic Regression would likely not be a good model as it could get confused the different coefficients; whereas, Random Tree classifier a random forest algorithm will sample the data and build several smaller, simpler decisions trees, each tree is much simpler because it is built from a subset of the data. Each tree is considered a “weak classifier” but when you combine them, they form a “strong classifier.”\n"
   ]
  },
  {
   "cell_type": "markdown",
   "metadata": {},
   "source": [
    "## Fit model to unscaled and scaled data on LogisticRegression"
   ]
  },
  {
   "cell_type": "code",
   "execution_count": 8,
   "metadata": {},
   "outputs": [
    {
     "name": "stderr",
     "output_type": "stream",
     "text": [
      "C:\\Users\\dri90\\anaconda3\\envs\\PythonAdv\\lib\\site-packages\\sklearn\\linear_model\\_logistic.py:764: ConvergenceWarning: lbfgs failed to converge (status=1):\n",
      "STOP: TOTAL NO. of ITERATIONS REACHED LIMIT.\n",
      "\n",
      "Increase the number of iterations (max_iter) or scale the data as shown in:\n",
      "    https://scikit-learn.org/stable/modules/preprocessing.html\n",
      "Please also refer to the documentation for alternative solver options:\n",
      "    https://scikit-learn.org/stable/modules/linear_model.html#logistic-regression\n",
      "  extra_warning_msg=_LOGISTIC_SOLVER_CONVERGENCE_MSG)\n"
     ]
    },
    {
     "data": {
      "text/plain": [
       "0.5087196937473416"
      ]
     },
     "execution_count": 8,
     "metadata": {},
     "output_type": "execute_result"
    }
   ],
   "source": [
    "# Train the Logistic Regression model on the unscaled data and print the model score\n",
    "# (AI) Fit unscaled data to Linear Regression model\n",
    "reg = LogisticRegression(solver='lbfgs').fit(X_train, y_train)\n",
    "reg.score(X_test, y_test)\n",
    "# print(reg.coef_)"
   ]
  },
  {
   "cell_type": "code",
   "execution_count": 9,
   "metadata": {},
   "outputs": [
    {
     "name": "stderr",
     "output_type": "stream",
     "text": [
      "C:\\Users\\dri90\\anaconda3\\envs\\PythonAdv\\lib\\site-packages\\sklearn\\linear_model\\_logistic.py:764: ConvergenceWarning: lbfgs failed to converge (status=1):\n",
      "STOP: TOTAL NO. of ITERATIONS REACHED LIMIT.\n",
      "\n",
      "Increase the number of iterations (max_iter) or scale the data as shown in:\n",
      "    https://scikit-learn.org/stable/modules/preprocessing.html\n",
      "Please also refer to the documentation for alternative solver options:\n",
      "    https://scikit-learn.org/stable/modules/linear_model.html#logistic-regression\n",
      "  extra_warning_msg=_LOGISTIC_SOLVER_CONVERGENCE_MSG)\n"
     ]
    },
    {
     "data": {
      "text/plain": [
       "0.67333049766057"
      ]
     },
     "execution_count": 9,
     "metadata": {},
     "output_type": "execute_result"
    }
   ],
   "source": [
    "# Fit the Logistic Regression model on the scaled data and print the model score\n",
    "reg = LogisticRegression().fit(X_train_scaled, y_train)\n",
    "reg.score(X_test_scaled, y_test)\n",
    "# print(reg.coef_)"
   ]
  },
  {
   "cell_type": "markdown",
   "metadata": {},
   "source": [
    "## Fit model to unscaled and scaled data on RandomForestClassifier before feature selection"
   ]
  },
  {
   "cell_type": "code",
   "execution_count": 10,
   "metadata": {},
   "outputs": [
    {
     "name": "stdout",
     "output_type": "stream",
     "text": [
      "Training Score: 1.0\n",
      "Testing Score: 0.6407911527009783\n"
     ]
    }
   ],
   "source": [
    "# Train a Random Forest Classifier model and print the model score\n",
    "clf = RandomForestClassifier(random_state=1, n_estimators=500).fit(X_train, y_train)\n",
    "print(f'Training Score: {clf.score(X_train, y_train)}')\n",
    "print(f'Testing Score: {clf.score(X_test, y_test)}')"
   ]
  },
  {
   "cell_type": "code",
   "execution_count": 11,
   "metadata": {},
   "outputs": [
    {
     "name": "stdout",
     "output_type": "stream",
     "text": [
      "Training Score: 1.0\n",
      "Testing Score: 0.6405784772437261\n"
     ]
    }
   ],
   "source": [
    "clf = RandomForestClassifier(random_state=1, n_estimators=500).fit(X_train_scaled, y_train)\n",
    "print(f'Training Score: {clf.score(X_train_scaled, y_train)}')\n",
    "print(f'Testing Score: {clf.score(X_test_scaled, y_test)}')"
   ]
  },
  {
   "cell_type": "markdown",
   "metadata": {},
   "source": [
    "## Feature selection"
   ]
  },
  {
   "cell_type": "code",
   "execution_count": 12,
   "metadata": {},
   "outputs": [],
   "source": [
    "# Get feature importance\n",
    "features = clf.feature_importances_\n",
    "features = sorted(features, reverse=True)\n"
   ]
  },
  {
   "cell_type": "code",
   "execution_count": 13,
   "metadata": {},
   "outputs": [],
   "source": [
    "# Use SelectFromModel to only get the important features\n",
    "from sklearn.feature_selection import SelectFromModel\n",
    "\n",
    "# create selection object by passing in the model fitted above\n",
    "# Note, the original model MUST be one that has a feature_importances_ or coef_\n",
    "sel = SelectFromModel(clf)"
   ]
  },
  {
   "cell_type": "code",
   "execution_count": 14,
   "metadata": {},
   "outputs": [
    {
     "data": {
      "text/plain": [
       "array([ True,  True,  True,  True,  True, False, False, False, False,\n",
       "        True, False,  True,  True,  True,  True,  True,  True,  True,\n",
       "       False, False,  True, False, False, False, False,  True, False,\n",
       "       False, False, False,  True,  True,  True, False, False,  True,\n",
       "        True,  True, False, False, False, False,  True,  True,  True,\n",
       "       False, False,  True,  True,  True, False, False,  True, False,\n",
       "       False, False, False, False, False, False, False, False, False,\n",
       "       False, False, False, False, False, False, False, False, False,\n",
       "        True,  True,  True,  True, False, False, False, False, False,\n",
       "       False, False, False, False])"
      ]
     },
     "execution_count": 14,
     "metadata": {},
     "output_type": "execute_result"
    }
   ],
   "source": [
    "# Fit selection object to the training set\n",
    "sel.fit(X_train_scaled, y_train)\n",
    "\n",
    "# Displays an array indicating whether given feature is important\n",
    "sel.get_support()"
   ]
  },
  {
   "cell_type": "code",
   "execution_count": 15,
   "metadata": {},
   "outputs": [],
   "source": [
    "# Retrain entire model on just selected features by transforming features\n",
    "# Using the sklearn selection object\n",
    "X_selected_train = sel.transform(X_train_scaled)\n",
    "X_selected_test = sel.transform(X_test_scaled)\n",
    "\n"
   ]
  },
  {
   "cell_type": "markdown",
   "metadata": {},
   "source": [
    "## Scale feature selected data"
   ]
  },
  {
   "cell_type": "code",
   "execution_count": 16,
   "metadata": {},
   "outputs": [],
   "source": [
    "# Scale the data\n",
    "scaler = StandardScaler().fit(X_selected_train)\n",
    "X_selected_train_scaled = scaler.transform(X_selected_train)\n",
    "X_selected_test_scaled = scaler.transform(X_selected_test)"
   ]
  },
  {
   "cell_type": "markdown",
   "metadata": {},
   "source": [
    "## Educated guess on LogisticRegression vs. RandomForestRegression. "
   ]
  },
  {
   "cell_type": "markdown",
   "metadata": {},
   "source": [
    "RF still seems to be the better model to use based on the variability of the features."
   ]
  },
  {
   "cell_type": "markdown",
   "metadata": {},
   "source": [
    "## Fit the selected featured scaled data to LogisticRegression and RandomForestRegression models\n"
   ]
  },
  {
   "cell_type": "code",
   "execution_count": 17,
   "metadata": {},
   "outputs": [
    {
     "name": "stdout",
     "output_type": "stream",
     "text": [
      "Training Score: 1.0\n",
      "Testing Score: 0.6108039132284134\n"
     ]
    }
   ],
   "source": [
    "# Train a Random Forest Classifier model on the scaled data and print the model score\n",
    "clf = RandomForestClassifier(random_state=1, n_estimators=500).fit(X_selected_train_scaled, y_train)\n",
    "print(f'Training Score: {clf.score(X_selected_train_scaled, y_train)}')\n",
    "print(f'Testing Score: {clf.score(X_selected_test_scaled, y_test)}')"
   ]
  },
  {
   "cell_type": "code",
   "execution_count": 18,
   "metadata": {},
   "outputs": [
    {
     "name": "stdout",
     "output_type": "stream",
     "text": [
      "Training Score: 0.7094417077175698\n",
      "Testing Score: 0.7735006380263718\n"
     ]
    },
    {
     "name": "stderr",
     "output_type": "stream",
     "text": [
      "C:\\Users\\dri90\\anaconda3\\envs\\PythonAdv\\lib\\site-packages\\sklearn\\linear_model\\_logistic.py:764: ConvergenceWarning: lbfgs failed to converge (status=1):\n",
      "STOP: TOTAL NO. of ITERATIONS REACHED LIMIT.\n",
      "\n",
      "Increase the number of iterations (max_iter) or scale the data as shown in:\n",
      "    https://scikit-learn.org/stable/modules/preprocessing.html\n",
      "Please also refer to the documentation for alternative solver options:\n",
      "    https://scikit-learn.org/stable/modules/linear_model.html#logistic-regression\n",
      "  extra_warning_msg=_LOGISTIC_SOLVER_CONVERGENCE_MSG)\n"
     ]
    }
   ],
   "source": [
    "# Fit the selected featured scaled data nto \n",
    "clf = LogisticRegression()\n",
    "clf.fit(X_selected_train_scaled, y_train)\n",
    "print(f'Training Score: {clf.score(X_selected_train_scaled, y_train)}')\n",
    "print(f'Testing Score: {clf.score(X_selected_test_scaled, y_test)}')"
   ]
  },
  {
   "cell_type": "markdown",
   "metadata": {},
   "source": [
    "## The logistic regression model fit to the full dataset is overfitting the training data. That is, the noisy parameters confuse it.  However, fitting to the smaller dataset with the selected features has less noisy parameters to confuse the model. So, we get a more accurate model."
   ]
  },
  {
   "cell_type": "markdown",
   "metadata": {},
   "source": [
    "## Hyperparameter Tuning"
   ]
  },
  {
   "cell_type": "code",
   "execution_count": 21,
   "metadata": {},
   "outputs": [
    {
     "data": {
      "text/plain": [
       "SVC()"
      ]
     },
     "execution_count": 21,
     "metadata": {},
     "output_type": "execute_result"
    }
   ],
   "source": [
    "# Create the SVC model\n",
    "from sklearn.svm import SVC \n",
    "model = SVC()\n",
    "model"
   ]
  },
  {
   "cell_type": "code",
   "execution_count": 22,
   "metadata": {},
   "outputs": [
    {
     "data": {
      "text/plain": [
       "{'C': [1, 5, 10, 50], 'kernel': ('linear', 'rbf', 'sigmoid')}"
      ]
     },
     "execution_count": 22,
     "metadata": {},
     "output_type": "execute_result"
    }
   ],
   "source": [
    "param_grid = {'C': [1, 5, 10, 50],\n",
    "              'kernel': ('linear', 'rbf', 'sigmoid')}\n",
    "param_grid"
   ]
  },
  {
   "cell_type": "code",
   "execution_count": 23,
   "metadata": {},
   "outputs": [],
   "source": [
    "from sklearn.model_selection import GridSearchCV\n",
    "grid_clf = GridSearchCV(model, param_grid, verbose=3)"
   ]
  },
  {
   "cell_type": "markdown",
   "metadata": {},
   "source": [
    "## Fit the model by using the grid search estimator."
   ]
  },
  {
   "cell_type": "code",
   "execution_count": 24,
   "metadata": {},
   "outputs": [
    {
     "name": "stderr",
     "output_type": "stream",
     "text": [
      "[Parallel(n_jobs=1)]: Using backend SequentialBackend with 1 concurrent workers.\n"
     ]
    },
    {
     "name": "stdout",
     "output_type": "stream",
     "text": [
      "Fitting 5 folds for each of 12 candidates, totalling 60 fits\n",
      "[CV] C=1, kernel=linear ..............................................\n",
      "[CV] .................. C=1, kernel=linear, score=0.683, total=  10.9s\n",
      "[CV] C=1, kernel=linear ..............................................\n"
     ]
    },
    {
     "name": "stderr",
     "output_type": "stream",
     "text": [
      "[Parallel(n_jobs=1)]: Done   1 out of   1 | elapsed:   10.8s remaining:    0.0s\n"
     ]
    },
    {
     "name": "stdout",
     "output_type": "stream",
     "text": [
      "[CV] .................. C=1, kernel=linear, score=0.712, total=  10.5s\n",
      "[CV] C=1, kernel=linear ..............................................\n"
     ]
    },
    {
     "name": "stderr",
     "output_type": "stream",
     "text": [
      "[Parallel(n_jobs=1)]: Done   2 out of   2 | elapsed:   21.3s remaining:    0.0s\n"
     ]
    },
    {
     "name": "stdout",
     "output_type": "stream",
     "text": [
      "[CV] .................. C=1, kernel=linear, score=0.706, total=  10.9s\n",
      "[CV] C=1, kernel=linear ..............................................\n",
      "[CV] .................. C=1, kernel=linear, score=0.713, total=  12.9s\n",
      "[CV] C=1, kernel=linear ..............................................\n",
      "[CV] .................. C=1, kernel=linear, score=0.721, total=  12.0s\n",
      "[CV] C=1, kernel=rbf .................................................\n",
      "[CV] ..................... C=1, kernel=rbf, score=0.657, total=   5.4s\n",
      "[CV] C=1, kernel=rbf .................................................\n",
      "[CV] ..................... C=1, kernel=rbf, score=0.711, total=   6.1s\n",
      "[CV] C=1, kernel=rbf .................................................\n",
      "[CV] ..................... C=1, kernel=rbf, score=0.771, total=   5.7s\n",
      "[CV] C=1, kernel=rbf .................................................\n",
      "[CV] ..................... C=1, kernel=rbf, score=0.782, total=   5.2s\n",
      "[CV] C=1, kernel=rbf .................................................\n",
      "[CV] ..................... C=1, kernel=rbf, score=0.775, total=   5.3s\n",
      "[CV] C=1, kernel=sigmoid .............................................\n",
      "[CV] ................. C=1, kernel=sigmoid, score=0.571, total=   4.8s\n",
      "[CV] C=1, kernel=sigmoid .............................................\n",
      "[CV] ................. C=1, kernel=sigmoid, score=0.569, total=   4.9s\n",
      "[CV] C=1, kernel=sigmoid .............................................\n",
      "[CV] ................. C=1, kernel=sigmoid, score=0.595, total=   5.5s\n",
      "[CV] C=1, kernel=sigmoid .............................................\n",
      "[CV] ................. C=1, kernel=sigmoid, score=0.573, total=   6.9s\n",
      "[CV] C=1, kernel=sigmoid .............................................\n",
      "[CV] ................. C=1, kernel=sigmoid, score=0.569, total=   5.2s\n",
      "[CV] C=5, kernel=linear ..............................................\n",
      "[CV] .................. C=5, kernel=linear, score=0.684, total=  29.7s\n",
      "[CV] C=5, kernel=linear ..............................................\n",
      "[CV] .................. C=5, kernel=linear, score=0.712, total=  24.7s\n",
      "[CV] C=5, kernel=linear ..............................................\n",
      "[CV] .................. C=5, kernel=linear, score=0.708, total=  26.9s\n",
      "[CV] C=5, kernel=linear ..............................................\n",
      "[CV] .................. C=5, kernel=linear, score=0.713, total=  26.0s\n",
      "[CV] C=5, kernel=linear ..............................................\n",
      "[CV] .................. C=5, kernel=linear, score=0.720, total=  23.7s\n",
      "[CV] C=5, kernel=rbf .................................................\n",
      "[CV] ..................... C=5, kernel=rbf, score=0.673, total=   5.5s\n",
      "[CV] C=5, kernel=rbf .................................................\n",
      "[CV] ..................... C=5, kernel=rbf, score=0.727, total=   5.7s\n",
      "[CV] C=5, kernel=rbf .................................................\n",
      "[CV] ..................... C=5, kernel=rbf, score=0.780, total=   6.0s\n",
      "[CV] C=5, kernel=rbf .................................................\n",
      "[CV] ..................... C=5, kernel=rbf, score=0.801, total=   6.1s\n",
      "[CV] C=5, kernel=rbf .................................................\n",
      "[CV] ..................... C=5, kernel=rbf, score=0.797, total=   5.6s\n",
      "[CV] C=5, kernel=sigmoid .............................................\n",
      "[CV] ................. C=5, kernel=sigmoid, score=0.562, total=   3.5s\n",
      "[CV] C=5, kernel=sigmoid .............................................\n",
      "[CV] ................. C=5, kernel=sigmoid, score=0.558, total=   3.3s\n",
      "[CV] C=5, kernel=sigmoid .............................................\n",
      "[CV] ................. C=5, kernel=sigmoid, score=0.593, total=   4.4s\n",
      "[CV] C=5, kernel=sigmoid .............................................\n",
      "[CV] ................. C=5, kernel=sigmoid, score=0.569, total=   5.6s\n",
      "[CV] C=5, kernel=sigmoid .............................................\n",
      "[CV] ................. C=5, kernel=sigmoid, score=0.566, total=   4.5s\n",
      "[CV] C=10, kernel=linear .............................................\n",
      "[CV] ................. C=10, kernel=linear, score=0.684, total=  42.2s\n",
      "[CV] C=10, kernel=linear .............................................\n",
      "[CV] ................. C=10, kernel=linear, score=0.713, total=  34.9s\n",
      "[CV] C=10, kernel=linear .............................................\n",
      "[CV] ................. C=10, kernel=linear, score=0.708, total=  37.1s\n",
      "[CV] C=10, kernel=linear .............................................\n",
      "[CV] ................. C=10, kernel=linear, score=0.714, total=  42.1s\n",
      "[CV] C=10, kernel=linear .............................................\n",
      "[CV] ................. C=10, kernel=linear, score=0.721, total=  39.6s\n",
      "[CV] C=10, kernel=rbf ................................................\n",
      "[CV] .................... C=10, kernel=rbf, score=0.670, total=   5.6s\n",
      "[CV] C=10, kernel=rbf ................................................\n",
      "[CV] .................... C=10, kernel=rbf, score=0.726, total=   6.0s\n",
      "[CV] C=10, kernel=rbf ................................................\n",
      "[CV] .................... C=10, kernel=rbf, score=0.782, total=   6.5s\n",
      "[CV] C=10, kernel=rbf ................................................\n",
      "[CV] .................... C=10, kernel=rbf, score=0.791, total=   6.7s\n",
      "[CV] C=10, kernel=rbf ................................................\n",
      "[CV] .................... C=10, kernel=rbf, score=0.794, total=   6.6s\n",
      "[CV] C=10, kernel=sigmoid ............................................\n",
      "[CV] ................ C=10, kernel=sigmoid, score=0.563, total=   3.4s\n",
      "[CV] C=10, kernel=sigmoid ............................................\n",
      "[CV] ................ C=10, kernel=sigmoid, score=0.556, total=   3.3s\n",
      "[CV] C=10, kernel=sigmoid ............................................\n",
      "[CV] ................ C=10, kernel=sigmoid, score=0.593, total=   4.5s\n",
      "[CV] C=10, kernel=sigmoid ............................................\n",
      "[CV] ................ C=10, kernel=sigmoid, score=0.566, total=   4.2s\n",
      "[CV] C=10, kernel=sigmoid ............................................\n",
      "[CV] ................ C=10, kernel=sigmoid, score=0.569, total=   4.1s\n",
      "[CV] C=50, kernel=linear .............................................\n",
      "[CV] ................. C=50, kernel=linear, score=0.684, total= 2.5min\n",
      "[CV] C=50, kernel=linear .............................................\n",
      "[CV] ................. C=50, kernel=linear, score=0.713, total= 2.3min\n",
      "[CV] C=50, kernel=linear .............................................\n",
      "[CV] ................. C=50, kernel=linear, score=0.707, total= 2.4min\n",
      "[CV] C=50, kernel=linear .............................................\n",
      "[CV] ................. C=50, kernel=linear, score=0.714, total= 2.5min\n",
      "[CV] C=50, kernel=linear .............................................\n",
      "[CV] ................. C=50, kernel=linear, score=0.722, total= 2.6min\n",
      "[CV] C=50, kernel=rbf ................................................\n",
      "[CV] .................... C=50, kernel=rbf, score=0.656, total=  10.2s\n",
      "[CV] C=50, kernel=rbf ................................................\n",
      "[CV] .................... C=50, kernel=rbf, score=0.705, total=  11.3s\n",
      "[CV] C=50, kernel=rbf ................................................\n",
      "[CV] .................... C=50, kernel=rbf, score=0.757, total=  13.4s\n",
      "[CV] C=50, kernel=rbf ................................................\n",
      "[CV] .................... C=50, kernel=rbf, score=0.769, total=  12.7s\n",
      "[CV] C=50, kernel=rbf ................................................\n",
      "[CV] .................... C=50, kernel=rbf, score=0.773, total=  12.1s\n",
      "[CV] C=50, kernel=sigmoid ............................................\n",
      "[CV] ................ C=50, kernel=sigmoid, score=0.566, total=   3.5s\n",
      "[CV] C=50, kernel=sigmoid ............................................\n",
      "[CV] ................ C=50, kernel=sigmoid, score=0.569, total=   3.4s\n",
      "[CV] C=50, kernel=sigmoid ............................................\n",
      "[CV] ................ C=50, kernel=sigmoid, score=0.593, total=   4.0s\n",
      "[CV] C=50, kernel=sigmoid ............................................\n",
      "[CV] ................ C=50, kernel=sigmoid, score=0.567, total=   3.1s\n",
      "[CV] C=50, kernel=sigmoid ............................................\n",
      "[CV] ................ C=50, kernel=sigmoid, score=0.572, total=   3.1s\n"
     ]
    },
    {
     "name": "stderr",
     "output_type": "stream",
     "text": [
      "[Parallel(n_jobs=1)]: Done  60 out of  60 | elapsed: 22.6min finished\n"
     ]
    },
    {
     "data": {
      "text/plain": [
       "GridSearchCV(estimator=SVC(),\n",
       "             param_grid={'C': [1, 5, 10, 50],\n",
       "                         'kernel': ('linear', 'rbf', 'sigmoid')},\n",
       "             verbose=3)"
      ]
     },
     "execution_count": 24,
     "metadata": {},
     "output_type": "execute_result"
    }
   ],
   "source": [
    "# Fit the model by using the grid search estimator.\n",
    "# This will take the KNN model and try each combination of parameters.\n",
    "grid_clf.fit(X_selected_train_scaled, y_train)\n",
    "# grid_clf.fit(X_selected_test_scaled, y_t)"
   ]
  },
  {
   "cell_type": "code",
   "execution_count": 25,
   "metadata": {},
   "outputs": [
    {
     "name": "stdout",
     "output_type": "stream",
     "text": [
      "{'C': 5, 'kernel': 'rbf'}\n"
     ]
    }
   ],
   "source": [
    "# List the best parameters for this dataset\n",
    "print(grid_clf.best_params_)"
   ]
  },
  {
   "cell_type": "code",
   "execution_count": 26,
   "metadata": {},
   "outputs": [
    {
     "name": "stdout",
     "output_type": "stream",
     "text": [
      "0.7554187192118226\n"
     ]
    }
   ],
   "source": [
    "# List the best score\n",
    "print(grid_clf.best_score_)"
   ]
  },
  {
   "cell_type": "code",
   "execution_count": 27,
   "metadata": {},
   "outputs": [
    {
     "data": {
      "text/plain": [
       "0.763717566992769"
      ]
     },
     "execution_count": 27,
     "metadata": {},
     "output_type": "execute_result"
    }
   ],
   "source": [
    "# Score the hypertuned model on the test dataset\n",
    "grid_clf.score(X_selected_test_scaled, y_test)"
   ]
  },
  {
   "cell_type": "code",
   "execution_count": 28,
   "metadata": {},
   "outputs": [
    {
     "data": {
      "text/plain": [
       "array([0, 1, 0, ..., 0, 0, 0], dtype=uint8)"
      ]
     },
     "execution_count": 28,
     "metadata": {},
     "output_type": "execute_result"
    }
   ],
   "source": [
    "# Make predictions with the hypertuned model\n",
    "predictions = grid_clf.predict(X_selected_test_scaled)\n",
    "predictions"
   ]
  },
  {
   "cell_type": "code",
   "execution_count": 29,
   "metadata": {},
   "outputs": [
    {
     "name": "stdout",
     "output_type": "stream",
     "text": [
      "              precision    recall  f1-score   support\n",
      "\n",
      "    low_risk       0.73      0.83      0.78      2351\n",
      "   high_risk       0.80      0.70      0.75      2351\n",
      "\n",
      "    accuracy                           0.76      4702\n",
      "   macro avg       0.77      0.76      0.76      4702\n",
      "weighted avg       0.77      0.76      0.76      4702\n",
      "\n"
     ]
    }
   ],
   "source": [
    "# Calculate classification report\n",
    "from sklearn.metrics import classification_report\n",
    "print(classification_report(y_test, predictions,\n",
    "                            target_names=[\"low_risk\", \"high_risk\"]))"
   ]
  },
  {
   "cell_type": "markdown",
   "metadata": {},
   "source": [
    "# RandomizedSearchCV"
   ]
  },
  {
   "cell_type": "code",
   "execution_count": 30,
   "metadata": {},
   "outputs": [
    {
     "data": {
      "text/plain": [
       "{'C': array([  1,   2,   3,   4,   5,   6,   7,   8,   9,  10,  11,  12,  13,\n",
       "         14,  15,  16,  17,  18,  19,  20,  21,  22,  23,  24,  25,  26,\n",
       "         27,  28,  29,  30,  31,  32,  33,  34,  35,  36,  37,  38,  39,\n",
       "         40,  41,  42,  43,  44,  45,  46,  47,  48,  49,  50,  51,  52,\n",
       "         53,  54,  55,  56,  57,  58,  59,  60,  61,  62,  63,  64,  65,\n",
       "         66,  67,  68,  69,  70,  71,  72,  73,  74,  75,  76,  77,  78,\n",
       "         79,  80,  81,  82,  83,  84,  85,  86,  87,  88,  89,  90,  91,\n",
       "         92,  93,  94,  95,  96,  97,  98,  99, 100]),\n",
       " 'kernel': ('linear', 'rbf', 'sigmoid')}"
      ]
     },
     "execution_count": 30,
     "metadata": {},
     "output_type": "execute_result"
    }
   ],
   "source": [
    "big_param_grid = {\n",
    "    'C' : np.arange(1, 101, 1),\n",
    "    'kernel': ('linear', 'rbf', 'sigmoid'),\n",
    "}\n",
    "big_param_grid"
   ]
  },
  {
   "cell_type": "code",
   "execution_count": 31,
   "metadata": {},
   "outputs": [
    {
     "data": {
      "text/plain": [
       "RandomizedSearchCV(estimator=SVC(),\n",
       "                   param_distributions={'C': array([  1,   2,   3,   4,   5,   6,   7,   8,   9,  10,  11,  12,  13,\n",
       "        14,  15,  16,  17,  18,  19,  20,  21,  22,  23,  24,  25,  26,\n",
       "        27,  28,  29,  30,  31,  32,  33,  34,  35,  36,  37,  38,  39,\n",
       "        40,  41,  42,  43,  44,  45,  46,  47,  48,  49,  50,  51,  52,\n",
       "        53,  54,  55,  56,  57,  58,  59,  60,  61,  62,  63,  64,  65,\n",
       "        66,  67,  68,  69,  70,  71,  72,  73,  74,  75,  76,  77,  78,\n",
       "        79,  80,  81,  82,  83,  84,  85,  86,  87,  88,  89,  90,  91,\n",
       "        92,  93,  94,  95,  96,  97,  98,  99, 100]),\n",
       "                                        'kernel': ('linear', 'rbf', 'sigmoid')},\n",
       "                   random_state=1, verbose=3)"
      ]
     },
     "execution_count": 31,
     "metadata": {},
     "output_type": "execute_result"
    }
   ],
   "source": [
    "# Create the randomized search estimator along with a parameter object containing the values to adjust\n",
    "from sklearn.model_selection import RandomizedSearchCV\n",
    "random_clf = RandomizedSearchCV(model, big_param_grid, n_iter=10, random_state=1, verbose=3)\n",
    "random_clf"
   ]
  },
  {
   "cell_type": "markdown",
   "metadata": {},
   "source": [
    "## Fit the model by using the randomized search estimator."
   ]
  },
  {
   "cell_type": "code",
   "execution_count": 32,
   "metadata": {},
   "outputs": [
    {
     "name": "stdout",
     "output_type": "stream",
     "text": [
      "Fitting 5 folds for each of 10 candidates, totalling 50 fits\n",
      "[CV] kernel=linear, C=64 .............................................\n"
     ]
    },
    {
     "name": "stderr",
     "output_type": "stream",
     "text": [
      "[Parallel(n_jobs=1)]: Using backend SequentialBackend with 1 concurrent workers.\n"
     ]
    },
    {
     "name": "stdout",
     "output_type": "stream",
     "text": [
      "[CV] ................. kernel=linear, C=64, score=0.684, total= 3.4min\n",
      "[CV] kernel=linear, C=64 .............................................\n"
     ]
    },
    {
     "name": "stderr",
     "output_type": "stream",
     "text": [
      "[Parallel(n_jobs=1)]: Done   1 out of   1 | elapsed:  3.4min remaining:    0.0s\n"
     ]
    },
    {
     "name": "stdout",
     "output_type": "stream",
     "text": [
      "[CV] ................. kernel=linear, C=64, score=0.713, total= 2.9min\n",
      "[CV] kernel=linear, C=64 .............................................\n"
     ]
    },
    {
     "name": "stderr",
     "output_type": "stream",
     "text": [
      "[Parallel(n_jobs=1)]: Done   2 out of   2 | elapsed:  6.3min remaining:    0.0s\n"
     ]
    },
    {
     "name": "stdout",
     "output_type": "stream",
     "text": [
      "[CV] ................. kernel=linear, C=64, score=0.707, total= 3.0min\n",
      "[CV] kernel=linear, C=64 .............................................\n",
      "[CV] ................. kernel=linear, C=64, score=0.714, total= 3.3min\n",
      "[CV] kernel=linear, C=64 .............................................\n",
      "[CV] ................. kernel=linear, C=64, score=0.722, total= 3.3min\n",
      "[CV] kernel=linear, C=42 .............................................\n",
      "[CV] ................. kernel=linear, C=42, score=0.684, total= 2.3min\n",
      "[CV] kernel=linear, C=42 .............................................\n",
      "[CV] ................. kernel=linear, C=42, score=0.713, total= 2.0min\n",
      "[CV] kernel=linear, C=42 .............................................\n",
      "[CV] ................. kernel=linear, C=42, score=0.707, total= 2.0min\n",
      "[CV] kernel=linear, C=42 .............................................\n",
      "[CV] ................. kernel=linear, C=42, score=0.714, total= 2.2min\n",
      "[CV] kernel=linear, C=42 .............................................\n",
      "[CV] ................. kernel=linear, C=42, score=0.722, total= 2.2min\n",
      "[CV] kernel=sigmoid, C=62 ............................................\n",
      "[CV] ................ kernel=sigmoid, C=62, score=0.568, total=   3.4s\n",
      "[CV] kernel=sigmoid, C=62 ............................................\n",
      "[CV] ................ kernel=sigmoid, C=62, score=0.569, total=   3.4s\n",
      "[CV] kernel=sigmoid, C=62 ............................................\n",
      "[CV] ................ kernel=sigmoid, C=62, score=0.594, total=   4.3s\n",
      "[CV] kernel=sigmoid, C=62 ............................................\n",
      "[CV] ................ kernel=sigmoid, C=62, score=0.567, total=   3.1s\n",
      "[CV] kernel=sigmoid, C=62 ............................................\n",
      "[CV] ................ kernel=sigmoid, C=62, score=0.574, total=   4.2s\n",
      "[CV] kernel=linear, C=72 .............................................\n",
      "[CV] ................. kernel=linear, C=72, score=0.683, total= 3.6min\n",
      "[CV] kernel=linear, C=72 .............................................\n",
      "[CV] ................. kernel=linear, C=72, score=0.713, total= 3.2min\n",
      "[CV] kernel=linear, C=72 .............................................\n",
      "[CV] ................. kernel=linear, C=72, score=0.707, total= 3.6min\n",
      "[CV] kernel=linear, C=72 .............................................\n",
      "[CV] ................. kernel=linear, C=72, score=0.714, total= 4.0min\n",
      "[CV] kernel=linear, C=72 .............................................\n",
      "[CV] ................. kernel=linear, C=72, score=0.722, total= 3.7min\n",
      "[CV] kernel=rbf, C=36 ................................................\n",
      "[CV] .................... kernel=rbf, C=36, score=0.664, total=  10.7s\n",
      "[CV] kernel=rbf, C=36 ................................................\n",
      "[CV] .................... kernel=rbf, C=36, score=0.713, total=  11.8s\n",
      "[CV] kernel=rbf, C=36 ................................................\n",
      "[CV] .................... kernel=rbf, C=36, score=0.764, total=  12.8s\n",
      "[CV] kernel=rbf, C=36 ................................................\n",
      "[CV] .................... kernel=rbf, C=36, score=0.773, total=  12.8s\n",
      "[CV] kernel=rbf, C=36 ................................................\n",
      "[CV] .................... kernel=rbf, C=36, score=0.777, total=  12.9s\n",
      "[CV] kernel=rbf, C=43 ................................................\n",
      "[CV] .................... kernel=rbf, C=43, score=0.658, total=  11.7s\n",
      "[CV] kernel=rbf, C=43 ................................................\n",
      "[CV] .................... kernel=rbf, C=43, score=0.708, total=  12.6s\n",
      "[CV] kernel=rbf, C=43 ................................................\n",
      "[CV] .................... kernel=rbf, C=43, score=0.761, total=  13.9s\n",
      "[CV] kernel=rbf, C=43 ................................................\n",
      "[CV] .................... kernel=rbf, C=43, score=0.771, total=  13.9s\n",
      "[CV] kernel=rbf, C=43 ................................................\n",
      "[CV] .................... kernel=rbf, C=43, score=0.773, total=  13.1s\n",
      "[CV] kernel=sigmoid, C=59 ............................................\n",
      "[CV] ................ kernel=sigmoid, C=59, score=0.567, total=   3.5s\n",
      "[CV] kernel=sigmoid, C=59 ............................................\n",
      "[CV] ................ kernel=sigmoid, C=59, score=0.570, total=   3.5s\n",
      "[CV] kernel=sigmoid, C=59 ............................................\n",
      "[CV] ................ kernel=sigmoid, C=59, score=0.592, total=   4.7s\n",
      "[CV] kernel=sigmoid, C=59 ............................................\n",
      "[CV] ................ kernel=sigmoid, C=59, score=0.567, total=   3.4s\n",
      "[CV] kernel=sigmoid, C=59 ............................................\n",
      "[CV] ................ kernel=sigmoid, C=59, score=0.573, total=   4.3s\n",
      "[CV] kernel=rbf, C=25 ................................................\n",
      "[CV] .................... kernel=rbf, C=25, score=0.663, total=   7.6s\n",
      "[CV] kernel=rbf, C=25 ................................................\n",
      "[CV] .................... kernel=rbf, C=25, score=0.719, total=   8.3s\n",
      "[CV] kernel=rbf, C=25 ................................................\n",
      "[CV] .................... kernel=rbf, C=25, score=0.773, total=   9.1s\n",
      "[CV] kernel=rbf, C=25 ................................................\n",
      "[CV] .................... kernel=rbf, C=25, score=0.774, total=   9.3s\n",
      "[CV] kernel=rbf, C=25 ................................................\n",
      "[CV] .................... kernel=rbf, C=25, score=0.780, total=   9.2s\n",
      "[CV] kernel=sigmoid, C=92 ............................................\n",
      "[CV] ................ kernel=sigmoid, C=92, score=0.567, total=   3.4s\n",
      "[CV] kernel=sigmoid, C=92 ............................................\n",
      "[CV] ................ kernel=sigmoid, C=92, score=0.570, total=   3.4s\n",
      "[CV] kernel=sigmoid, C=92 ............................................\n",
      "[CV] ................ kernel=sigmoid, C=92, score=0.594, total=   4.2s\n",
      "[CV] kernel=sigmoid, C=92 ............................................\n",
      "[CV] ................ kernel=sigmoid, C=92, score=0.567, total=   3.2s\n",
      "[CV] kernel=sigmoid, C=92 ............................................\n",
      "[CV] ................ kernel=sigmoid, C=92, score=0.574, total=   4.3s\n",
      "[CV] kernel=sigmoid, C=81 ............................................\n",
      "[CV] ................ kernel=sigmoid, C=81, score=0.566, total=   3.5s\n",
      "[CV] kernel=sigmoid, C=81 ............................................\n",
      "[CV] ................ kernel=sigmoid, C=81, score=0.570, total=   3.4s\n",
      "[CV] kernel=sigmoid, C=81 ............................................\n",
      "[CV] ................ kernel=sigmoid, C=81, score=0.593, total=   4.3s\n",
      "[CV] kernel=sigmoid, C=81 ............................................\n",
      "[CV] ................ kernel=sigmoid, C=81, score=0.567, total=   3.0s\n",
      "[CV] kernel=sigmoid, C=81 ............................................\n",
      "[CV] ................ kernel=sigmoid, C=81, score=0.574, total=   4.2s\n"
     ]
    },
    {
     "name": "stderr",
     "output_type": "stream",
     "text": [
      "[Parallel(n_jobs=1)]: Done  50 out of  50 | elapsed: 48.6min finished\n"
     ]
    },
    {
     "data": {
      "text/plain": [
       "RandomizedSearchCV(estimator=SVC(),\n",
       "                   param_distributions={'C': array([  1,   2,   3,   4,   5,   6,   7,   8,   9,  10,  11,  12,  13,\n",
       "        14,  15,  16,  17,  18,  19,  20,  21,  22,  23,  24,  25,  26,\n",
       "        27,  28,  29,  30,  31,  32,  33,  34,  35,  36,  37,  38,  39,\n",
       "        40,  41,  42,  43,  44,  45,  46,  47,  48,  49,  50,  51,  52,\n",
       "        53,  54,  55,  56,  57,  58,  59,  60,  61,  62,  63,  64,  65,\n",
       "        66,  67,  68,  69,  70,  71,  72,  73,  74,  75,  76,  77,  78,\n",
       "        79,  80,  81,  82,  83,  84,  85,  86,  87,  88,  89,  90,  91,\n",
       "        92,  93,  94,  95,  96,  97,  98,  99, 100]),\n",
       "                                        'kernel': ('linear', 'rbf', 'sigmoid')},\n",
       "                   random_state=1, verbose=3)"
      ]
     },
     "execution_count": 32,
     "metadata": {},
     "output_type": "execute_result"
    }
   ],
   "source": [
    "# Fit the model by using the randomized search estimator.\n",
    "# This will take the logistic regression model and a random sample of combinations of parameters.\n",
    "random_clf.fit(X_selected_train_scaled, y_train)"
   ]
  },
  {
   "cell_type": "code",
   "execution_count": 33,
   "metadata": {},
   "outputs": [
    {
     "data": {
      "text/plain": [
       "12180"
      ]
     },
     "execution_count": 33,
     "metadata": {},
     "output_type": "execute_result"
    }
   ],
   "source": [
    "len(y_train)"
   ]
  },
  {
   "cell_type": "code",
   "execution_count": 34,
   "metadata": {},
   "outputs": [
    {
     "name": "stdout",
     "output_type": "stream",
     "text": [
      "{'kernel': 'rbf', 'C': 25}\n"
     ]
    }
   ],
   "source": [
    "# List the best parameters for this dataset\n",
    "print(random_clf.best_params_)"
   ]
  },
  {
   "cell_type": "code",
   "execution_count": 35,
   "metadata": {},
   "outputs": [
    {
     "name": "stdout",
     "output_type": "stream",
     "text": [
      "0.741871921182266\n"
     ]
    }
   ],
   "source": [
    "# List the best score\n",
    "print(random_clf.best_score_)"
   ]
  },
  {
   "cell_type": "code",
   "execution_count": 36,
   "metadata": {},
   "outputs": [],
   "source": [
    "# Make predictions with the hypertuned model\n",
    "predictions = random_clf.predict(X_selected_test_scaled)"
   ]
  },
  {
   "cell_type": "code",
   "execution_count": 37,
   "metadata": {},
   "outputs": [],
   "source": [
    "target_names = [\"low_risk\", \"high_risk\"]"
   ]
  },
  {
   "cell_type": "code",
   "execution_count": 38,
   "metadata": {},
   "outputs": [
    {
     "name": "stdout",
     "output_type": "stream",
     "text": [
      "              precision    recall  f1-score   support\n",
      "\n",
      "    low_risk       0.71      0.86      0.78      2351\n",
      "   high_risk       0.82      0.65      0.73      2351\n",
      "\n",
      "    accuracy                           0.75      4702\n",
      "   macro avg       0.77      0.75      0.75      4702\n",
      "weighted avg       0.77      0.75      0.75      4702\n",
      "\n"
     ]
    }
   ],
   "source": [
    "# Calculate the classification report\n",
    "from sklearn.metrics import classification_report\n",
    "print(classification_report(y_test, predictions,\n",
    "                            target_names=target_names))"
   ]
  },
  {
   "cell_type": "code",
   "execution_count": null,
   "metadata": {},
   "outputs": [],
   "source": []
  }
 ],
 "metadata": {
  "kernelspec": {
   "display_name": "Advanced Python",
   "language": "python",
   "name": "pythonadv"
  },
  "language_info": {
   "codemirror_mode": {
    "name": "ipython",
    "version": 3
   },
   "file_extension": ".py",
   "mimetype": "text/x-python",
   "name": "python",
   "nbconvert_exporter": "python",
   "pygments_lexer": "ipython3",
   "version": "3.6.10"
  }
 },
 "nbformat": 4,
 "nbformat_minor": 4
}
